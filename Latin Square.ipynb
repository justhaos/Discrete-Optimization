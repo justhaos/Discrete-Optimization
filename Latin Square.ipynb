{
 "cells": [
  {
   "attachments": {
    "image.png": {
     "image/png": "[encoded data removed]"
    }
   },
   "cell_type": "markdown",
   "id": "2987b547",
   "metadata": {},
   "source": [
    "## Задача Эйлера о 36 офицерах. \n",
    "### Решение\n",
    "1. Составляем две серии переменных, отвечающие за то, на каком месте стоит конкретная цифра \n",
    "    - *так же как в судоку*\n",
    "2. Одна серия отвечает за звания, другая серия за род войск\n",
    "3. Построение латинских квадратов:\n",
    "    - Условия на наличие и уникальность каждого числа\n",
    "4. Комбинация двух квадратов:\n",
    "    - первый квадрат * 10 + второй квадрат\n",
    "5. Чтобы отследить наличие повторяющихся пар, составляем вектор, который хранит в себе разности всех пар квадрата из п.4\n",
    "    - длина вектора $C^2_{36} = 630$ \n",
    "6. Добавляем ограничение, что модули компонент этого вектора должны быть не меньше 1\n",
    "    - <=> не равны 0, так как задача целочисленная\n",
    "    \n",
    "Получили ошибку, что решение в данных ограничениях не достижимо\n",
    "![image.png](attachment:image.png)"
   ]
  },
  {
   "cell_type": "code",
   "execution_count": 7,
   "id": "cb84a9c2",
   "metadata": {},
   "outputs": [
    {
     "ename": "KeyError",
     "evalue": "'problem proven infeasible'",
     "output_type": "error",
     "traceback": [
      "\u001b[1;31m---------------------------------------------------------------------------\u001b[0m",
      "\u001b[1;31mKeyError\u001b[0m                                  Traceback (most recent call last)",
      "Input \u001b[1;32mIn [7]\u001b[0m, in \u001b[0;36m<cell line: 50>\u001b[1;34m()\u001b[0m\n\u001b[0;32m     48\u001b[0m \u001b[38;5;66;03m#просто создание квадратов\u001b[39;00m\n\u001b[0;32m     49\u001b[0m create_squares \u001b[38;5;241m=\u001b[39m cp\u001b[38;5;241m.\u001b[39mProblem(cp\u001b[38;5;241m.\u001b[39mMinimize(\u001b[38;5;241m0\u001b[39m), cons)\n\u001b[1;32m---> 50\u001b[0m \u001b[43mcreate_squares\u001b[49m\u001b[38;5;241;43m.\u001b[39;49m\u001b[43msolve\u001b[49m\u001b[43m(\u001b[49m\u001b[43msolver\u001b[49m\u001b[38;5;241;43m=\u001b[39;49m\u001b[38;5;124;43m\"\u001b[39;49m\u001b[38;5;124;43mCBC\u001b[39;49m\u001b[38;5;124;43m\"\u001b[39;49m\u001b[43m)\u001b[49m\n",
      "File \u001b[1;32m~\\anaconda3\\envs\\opt\\lib\\site-packages\\cvxpy\\problems\\problem.py:481\u001b[0m, in \u001b[0;36mProblem.solve\u001b[1;34m(self, *args, **kwargs)\u001b[0m\n\u001b[0;32m    479\u001b[0m \u001b[38;5;28;01melse\u001b[39;00m:\n\u001b[0;32m    480\u001b[0m     solve_func \u001b[38;5;241m=\u001b[39m Problem\u001b[38;5;241m.\u001b[39m_solve\n\u001b[1;32m--> 481\u001b[0m \u001b[38;5;28;01mreturn\u001b[39;00m solve_func(\u001b[38;5;28mself\u001b[39m, \u001b[38;5;241m*\u001b[39margs, \u001b[38;5;241m*\u001b[39m\u001b[38;5;241m*\u001b[39mkwargs)\n",
      "File \u001b[1;32m~\\anaconda3\\envs\\opt\\lib\\site-packages\\cvxpy\\problems\\problem.py:1012\u001b[0m, in \u001b[0;36mProblem._solve\u001b[1;34m(self, solver, warm_start, verbose, gp, qcp, requires_grad, enforce_dpp, ignore_dpp, **kwargs)\u001b[0m\n\u001b[0;32m   1008\u001b[0m     s\u001b[38;5;241m.\u001b[39mLOGGER\u001b[38;5;241m.\u001b[39minfo(\n\u001b[0;32m   1009\u001b[0m             \u001b[38;5;124m'\u001b[39m\u001b[38;5;124mInvoking solver \u001b[39m\u001b[38;5;132;01m%s\u001b[39;00m\u001b[38;5;124m  to obtain a solution.\u001b[39m\u001b[38;5;124m'\u001b[39m,\n\u001b[0;32m   1010\u001b[0m             solving_chain\u001b[38;5;241m.\u001b[39mreductions[\u001b[38;5;241m-\u001b[39m\u001b[38;5;241m1\u001b[39m]\u001b[38;5;241m.\u001b[39mname())\n\u001b[0;32m   1011\u001b[0m start \u001b[38;5;241m=\u001b[39m time\u001b[38;5;241m.\u001b[39mtime()\n\u001b[1;32m-> 1012\u001b[0m solution \u001b[38;5;241m=\u001b[39m \u001b[43msolving_chain\u001b[49m\u001b[38;5;241;43m.\u001b[39;49m\u001b[43msolve_via_data\u001b[49m\u001b[43m(\u001b[49m\n\u001b[0;32m   1013\u001b[0m \u001b[43m    \u001b[49m\u001b[38;5;28;43mself\u001b[39;49m\u001b[43m,\u001b[49m\u001b[43m \u001b[49m\u001b[43mdata\u001b[49m\u001b[43m,\u001b[49m\u001b[43m \u001b[49m\u001b[43mwarm_start\u001b[49m\u001b[43m,\u001b[49m\u001b[43m \u001b[49m\u001b[43mverbose\u001b[49m\u001b[43m,\u001b[49m\u001b[43m \u001b[49m\u001b[43mkwargs\u001b[49m\u001b[43m)\u001b[49m\n\u001b[0;32m   1014\u001b[0m end \u001b[38;5;241m=\u001b[39m time\u001b[38;5;241m.\u001b[39mtime()\n\u001b[0;32m   1015\u001b[0m \u001b[38;5;28mself\u001b[39m\u001b[38;5;241m.\u001b[39m_solve_time \u001b[38;5;241m=\u001b[39m end \u001b[38;5;241m-\u001b[39m start\n",
      "File \u001b[1;32m~\\anaconda3\\envs\\opt\\lib\\site-packages\\cvxpy\\reductions\\solvers\\solving_chain.py:361\u001b[0m, in \u001b[0;36mSolvingChain.solve_via_data\u001b[1;34m(self, problem, data, warm_start, verbose, solver_opts)\u001b[0m\n\u001b[0;32m    325\u001b[0m \u001b[38;5;28;01mdef\u001b[39;00m \u001b[38;5;21msolve_via_data\u001b[39m(\u001b[38;5;28mself\u001b[39m, problem, data, warm_start: \u001b[38;5;28mbool\u001b[39m \u001b[38;5;241m=\u001b[39m \u001b[38;5;28;01mFalse\u001b[39;00m, verbose: \u001b[38;5;28mbool\u001b[39m \u001b[38;5;241m=\u001b[39m \u001b[38;5;28;01mFalse\u001b[39;00m,\n\u001b[0;32m    326\u001b[0m                    solver_opts\u001b[38;5;241m=\u001b[39m{}):\n\u001b[0;32m    327\u001b[0m     \u001b[38;5;124;03m\"\"\"Solves the problem using the data output by the an apply invocation.\u001b[39;00m\n\u001b[0;32m    328\u001b[0m \n\u001b[0;32m    329\u001b[0m \u001b[38;5;124;03m    The semantics are:\u001b[39;00m\n\u001b[1;32m   (...)\u001b[0m\n\u001b[0;32m    359\u001b[0m \u001b[38;5;124;03m        a Solution object.\u001b[39;00m\n\u001b[0;32m    360\u001b[0m \u001b[38;5;124;03m    \"\"\"\u001b[39;00m\n\u001b[1;32m--> 361\u001b[0m     \u001b[38;5;28;01mreturn\u001b[39;00m \u001b[38;5;28;43mself\u001b[39;49m\u001b[38;5;241;43m.\u001b[39;49m\u001b[43msolver\u001b[49m\u001b[38;5;241;43m.\u001b[39;49m\u001b[43msolve_via_data\u001b[49m\u001b[43m(\u001b[49m\u001b[43mdata\u001b[49m\u001b[43m,\u001b[49m\u001b[43m \u001b[49m\u001b[43mwarm_start\u001b[49m\u001b[43m,\u001b[49m\u001b[43m \u001b[49m\u001b[43mverbose\u001b[49m\u001b[43m,\u001b[49m\n\u001b[0;32m    362\u001b[0m \u001b[43m                                      \u001b[49m\u001b[43msolver_opts\u001b[49m\u001b[43m,\u001b[49m\u001b[43m \u001b[49m\u001b[43mproblem\u001b[49m\u001b[38;5;241;43m.\u001b[39;49m\u001b[43m_solver_cache\u001b[49m\u001b[43m)\u001b[49m\n",
      "File \u001b[1;32m~\\anaconda3\\envs\\opt\\lib\\site-packages\\cvxpy\\reductions\\solvers\\conic_solvers\\cbc_conif.py:184\u001b[0m, in \u001b[0;36mCBC.solve_via_data\u001b[1;34m(self, data, warm_start, verbose, solver_opts, solver_cache)\u001b[0m\n\u001b[0;32m    182\u001b[0m solution \u001b[38;5;241m=\u001b[39m {}\n\u001b[0;32m    183\u001b[0m \u001b[38;5;28;01mif\u001b[39;00m data[s\u001b[38;5;241m.\u001b[39mBOOL_IDX] \u001b[38;5;129;01mor\u001b[39;00m data[s\u001b[38;5;241m.\u001b[39mINT_IDX]:\n\u001b[1;32m--> 184\u001b[0m     solution[\u001b[38;5;124m\"\u001b[39m\u001b[38;5;124mstatus\u001b[39m\u001b[38;5;124m\"\u001b[39m] \u001b[38;5;241m=\u001b[39m \u001b[38;5;28;43mself\u001b[39;49m\u001b[38;5;241;43m.\u001b[39;49m\u001b[43mSTATUS_MAP_MIP\u001b[49m\u001b[43m[\u001b[49m\u001b[43mstatus\u001b[49m\u001b[43m]\u001b[49m\n\u001b[0;32m    185\u001b[0m     solution[\u001b[38;5;124m\"\u001b[39m\u001b[38;5;124mprimal\u001b[39m\u001b[38;5;124m\"\u001b[39m] \u001b[38;5;241m=\u001b[39m cbcModel\u001b[38;5;241m.\u001b[39mprimalVariableSolution[\u001b[38;5;124m'\u001b[39m\u001b[38;5;124mx\u001b[39m\u001b[38;5;124m'\u001b[39m]\n\u001b[0;32m    186\u001b[0m     solution[\u001b[38;5;124m\"\u001b[39m\u001b[38;5;124mvalue\u001b[39m\u001b[38;5;124m\"\u001b[39m] \u001b[38;5;241m=\u001b[39m cbcModel\u001b[38;5;241m.\u001b[39mobjectiveValue\n",
      "\u001b[1;31mKeyError\u001b[0m: 'problem proven infeasible'"
     ]
    }
   ],
   "source": [
    "import cvxpy as cp\n",
    "import numpy as np\n",
    "import itertools as it\n",
    "\n",
    "N = 6 \n",
    "rank = {k : cp.Variable((N, N), boolean=True) for k in range(N)} #звания\n",
    "clas = {k : cp.Variable((N, N), boolean=True) for k in range(N)} #род войск\n",
    "\n",
    "cons = []\n",
    "#условия, что в строке должно быть каждое звание/каждый род войск\n",
    "for k in range(N):\n",
    "    cons.append(cp.sum(rank[k], axis=1) == 1)\n",
    "    cons.append(cp.sum(clas[k], axis=1) == 1)\n",
    "    \n",
    "#то же самое на столбцы\n",
    "for k in range(N):\n",
    "    cons.append(cp.sum(rank[k], axis=0) == 1)\n",
    "    cons.append(cp.sum(clas[k], axis=0) == 1)\n",
    "    \n",
    "#условия, что не должно быть повторений\n",
    "for i in range(N):\n",
    "    for j in range(N):\n",
    "        cons.append(sum([rank[k][i][j] for k in range(N)]) == 1)\n",
    "        cons.append(sum([clas[k][i][j] for k in range(N)]) == 1)\n",
    "\n",
    "# сами латинские квадраты\n",
    "rank_square = cp.Variable((N, N))\n",
    "clas_square = cp.Variable((N, N))\n",
    "cons.append(rank_square == sum(k * rank[k] for k in range(N)))\n",
    "cons.append(clas_square == sum(k * clas[k] for k in range(N)))\n",
    "\n",
    "#комбинация двух квадратов\n",
    "ort = cp.Variable((N, N))\n",
    "cons.append(ort == 10 * rank_square + clas_square)\n",
    "\n",
    "indexes = [(i, j) for i in range(N) for j in range(N)]\n",
    "index_comb = list(it.combinations(indexes, 2))\n",
    "ort_vec = cp.Variable(len(index_comb))\n",
    "for key1, key2 in index_comb:\n",
    "    i1, j1 = key1\n",
    "    i2, j2 = key2\n",
    "    n = index_comb.index((key1, key2))\n",
    "    cons.append(ort_vec[n] == ort[i1][j1] - ort[i2][j2])\n",
    "    \n",
    "#условие на ортогональность квадратов\n",
    "cons.append(ort_vec >= 1)\n",
    "\n",
    "prob = cp.Problem(cp.Minimize(0), cons)\n",
    "prob.solve(solver=\"CBC\")\n",
    "\n",
    "\n"
   ]
  }
 ],
 "metadata": {
  "kernelspec": {
   "display_name": "Python 3 (ipykernel)",
   "language": "python",
   "name": "python3"
  },
  "language_info": {
   "codemirror_mode": {
    "name": "ipython",
    "version": 3
   },
   "file_extension": ".py",
   "mimetype": "text/x-python",
   "name": "python",
   "nbconvert_exporter": "python",
   "pygments_lexer": "ipython3",
   "version": "3.10.4"
  }
 },
 "nbformat": 4,
 "nbformat_minor": 5
}
