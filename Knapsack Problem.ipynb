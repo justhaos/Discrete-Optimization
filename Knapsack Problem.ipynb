{
 "cells": [
  {
   "cell_type": "code",
   "execution_count": 161,
   "id": "ae4ef386",
   "metadata": {},
   "outputs": [],
   "source": [
    "import cvxpy as cp\n",
    "import numpy as np\n",
    "\n",
    "def Solver(data):\n",
    "    n, w, v, W, G = data\n",
    "    x = cp.Variable(n, boolean=True)\n",
    "    \n",
    "    cons = []\n",
    "    cons.append(x @ w <= W)\n",
    "    #cons.append(x @ v >= G)\n",
    "    obj = x @ v\n",
    "    \n",
    "    problem = cp.Problem(cp.Maximize(obj), cons)\n",
    "    problem.solve(solver=\"CBC\")\n",
    "    print('Status: ', problem.status)\n",
    "    print('Weight:', (x @ w).value)\n",
    "    return problem.value, x.value\n",
    "\n",
    "def GetData(filename):\n",
    "    with open(filename, 'r') as file:\n",
    "        file.readline()\n",
    "        n = int(file.readline()[1:])\n",
    "        W = int(file.readline()[1:])\n",
    "        G = int(file.readline()[1:])\n",
    "        file.readline()\n",
    "        w, v = [], []\n",
    "        ans = []\n",
    "        for line in file.readlines():\n",
    "            line = line.strip()\n",
    "            line = list(map(int, line.split(',')))\n",
    "            v.append(line[1])\n",
    "            w.append(line[2])\n",
    "            ans.append(line[3])\n",
    "            if len(w) >= n:\n",
    "                break\n",
    "    return n, w, v, W, G, ans\n",
    "\n",
    "def Knapsack_LP(filename):\n",
    "    n, w, v, W, G, check_answer = GetData(filename)\n",
    "    pr, x = Solver((n, w, v, W, G))    \n",
    "    print('Ответ:', pr)\n",
    "    print('Равенство ответов', list(x) == check_answer)\n",
    "    \n",
    "    w_check, v_check = 0, 0\n",
    "    for i in range(n):\n",
    "        if check_answer[i] == 1:\n",
    "            v_check += v[i]\n",
    "    print('Равенство ценности', pr == v_check)\n",
    "    return x"
   ]
  },
  {
   "cell_type": "code",
   "execution_count": 162,
   "id": "99b34355",
   "metadata": {},
   "outputs": [
    {
     "name": "stdout",
     "output_type": "stream",
     "text": [
      "Status:  optimal\n",
      "Weight: 9862.0\n",
      "Ответ: 20862.0\n",
      "Равенство ответов False\n",
      "Равенство ценности True\n"
     ]
    },
    {
     "data": {
      "text/plain": [
       "array([1., 0., 0., 0., 0., 0., 0., 1., 1., 0., 0., 0., 0., 0., 0., 0., 0.,\n",
       "       0., 0., 0., 1., 0., 0., 0., 1., 0., 1., 1., 0., 1., 0., 1., 0., 0.,\n",
       "       0., 0., 0., 0., 0., 0., 0., 0., 0., 0., 0., 0., 1., 0., 0., 1.])"
      ]
     },
     "execution_count": 162,
     "metadata": {},
     "output_type": "execute_result"
    }
   ],
   "source": [
    "filename = 'knapPI_3_50_10000.csv'\n",
    "ans0 = Knapsack_LP(filename)\n",
    "ans0"
   ]
  },
  {
   "cell_type": "code",
   "execution_count": 163,
   "id": "b2385d7b",
   "metadata": {},
   "outputs": [],
   "source": [
    "n, w, v, W, G, ans = GetData(filename)\n",
    "\n",
    "temp = list(zip(w, v, list(range(n))))\n",
    "temp.sort(key=lambda x: x[0])\n",
    "w, v, ind = [], [], []\n",
    "for wi, vi, xi in temp:\n",
    "    w.append(wi)\n",
    "    v.append(vi)\n",
    "    ind.append(xi)"
   ]
  },
  {
   "cell_type": "code",
   "execution_count": 164,
   "id": "eb7948f3",
   "metadata": {},
   "outputs": [
    {
     "name": "stdout",
     "output_type": "stream",
     "text": [
      "Ответ: 20862.0\n",
      "Суммарный вес: 9862\n"
     ]
    },
    {
     "data": {
      "text/plain": [
       "[11, 10, 8, 7, 6, 5, 4, 3, 2, 1, 0]"
      ]
     },
     "execution_count": 164,
     "metadata": {},
     "output_type": "execute_result"
    }
   ],
   "source": [
    "def Knapsack_Dynamic(k, s):\n",
    "    if A[k][s] == 0:\n",
    "        return 0\n",
    "    if A[k-1][s] == A[k][s]:\n",
    "        return Knapsack_Dynamic(k-1, s)\n",
    "    else:\n",
    "        ans2.append(k-1)\n",
    "        check_weight.append(w[k-1])\n",
    "        return Knapsack_Dynamic(k-1, s - w[k-1])\n",
    "\n",
    "A = np.ones((n+1,W+1))\n",
    "for i in range(n+1):\n",
    "    A[i][0] = 0\n",
    "    \n",
    "for i in range(W+1):\n",
    "    A[0][i] = 0\n",
    "    \n",
    "for k in range(n):\n",
    "    for s in range(1, W+1):\n",
    "        if s >= w[k]:\n",
    "            A[k+1][s] = max(A[k][s], A[k][s - w[k]] + v[k])\n",
    "        else:\n",
    "            A[k+1][s] = A[k][s]\n",
    "\n",
    "print(\"Ответ:\", A[n][W])\n",
    "\n",
    "ans2 = []\n",
    "check_weight = []\n",
    "Knapsack_Dynamic(n, W)\n",
    "print(\"Суммарный вес:\", sum(check_weight))\n",
    "ans2"
   ]
  },
  {
   "cell_type": "code",
   "execution_count": 165,
   "id": "b9582cbb",
   "metadata": {},
   "outputs": [
    {
     "name": "stdout",
     "output_type": "stream",
     "text": [
      "Равенство ответов True\n"
     ]
    }
   ],
   "source": [
    "#Сравнение результатов динамического программирования и LP-solvera\n",
    "#Совпадают ли они?\n",
    "check = [0]*n\n",
    "for i in ans2:\n",
    "    check[ind[i]] = 1\n",
    "print('Равенство ответов', check == list(map(round, ans0)))"
   ]
  },
  {
   "cell_type": "markdown",
   "id": "3ffe4e92",
   "metadata": {},
   "source": [
    "Стоит упомянуть, что решение солвером гораздо выгоднее, так как менее требователен к пользователю и компьютеру. \n",
    "\n",
    "На больших данных решение динамический программированием у меня не сработало, так как на матрицу размера 10000х59534113 не хватает памяти\n",
    "\n",
    "Тестирование программы проводилось на следующих датасетах:\n",
    "\n",
    "1. knapPI_11_10000_1000.csv\n",
    "2. knapPI_16_10000_1000.csv \n",
    "3. knapPI_1_10000_10000.csv\n",
    "4. knapPI_2_10000_100000.csv\n",
    "5. knapPI_2_50_1000.csv\n",
    "6. knapPI_3_50_10000.csv\n",
    "7. knapPI_4_10000_1000000.csv\n",
    "8. knapPI_6_10000_10000.csv"
   ]
  },
  {
   "cell_type": "code",
   "execution_count": null,
   "id": "1e0a076a",
   "metadata": {},
   "outputs": [],
   "source": []
  }
 ],
 "metadata": {
  "kernelspec": {
   "display_name": "Python 3 (ipykernel)",
   "language": "python",
   "name": "python3"
  },
  "language_info": {
   "codemirror_mode": {
    "name": "ipython",
    "version": 3
   },
   "file_extension": ".py",
   "mimetype": "text/x-python",
   "name": "python",
   "nbconvert_exporter": "python",
   "pygments_lexer": "ipython3",
   "version": "3.10.4"
  }
 },
 "nbformat": 4,
 "nbformat_minor": 5
}
