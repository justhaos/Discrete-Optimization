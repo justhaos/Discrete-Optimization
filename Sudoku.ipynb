{
 "cells": [
  {
   "cell_type": "code",
   "execution_count": 2,
   "id": "ec8aa7fc",
   "metadata": {},
   "outputs": [],
   "source": [
    "def Solve_Sudoku_LP(given_sudoku):\n",
    "    import cvxpy as cp\n",
    "    import numpy as np\n",
    "    import copy\n",
    "    N = len(given_sudoku)\n",
    "    n = int(N**(0.5))\n",
    "    x = {}\n",
    "    row_con, col_con, duplicate_con, digit_con, block_con = [], [], [], [], []\n",
    "    for k in range(1,N+1):\n",
    "        x[k] = cp.Variable((N,N), boolean=True) \n",
    "\n",
    "        row_con.append(cp.sum(x[k], axis=1) == 1)\n",
    "        col_con.append(cp.sum(x[k], axis=0) == 1)\n",
    "\n",
    "    for i in range(N):\n",
    "        for j in range(N):\n",
    "            duplicate_con.append(sum([x[k][i][j] for k in range(1,N+1)]) == 1)\n",
    "\n",
    "            k = given_sudoku[i][j]\n",
    "            if k != 0:\n",
    "                digit_con.append(x[k][i][j] == 1)\n",
    "\n",
    "    for i0 in range(n):\n",
    "        for j0 in range(n):\n",
    "            for k in range(1,N+1):\n",
    "                block_con.append(sum([x[k][i0 * 3 + i1][j0 * 3 + j1] for i1 in range(n) for j1 in range(n)]) == 1)\n",
    "\n",
    "    constraints = row_con + col_con + duplicate_con + digit_con + block_con\n",
    "    objection = sum(cp.sum(x[k]) for k in range(1, N+1))\n",
    "\n",
    "    prob = cp.Problem(cp.Minimize(objection), constraints)\n",
    "    prob.solve(solver=\"CBC\")\n",
    "    #prob.solve(solver=\"GLPK_MI\")\n",
    "    print('Status: ', prob.status)\n",
    "\n",
    "    solution = copy.deepcopy(given_sudoku)\n",
    "    for k in range(1, N+1):\n",
    "        for i in range(N):\n",
    "            row = x[k].value[i]\n",
    "            for j in range(N):\n",
    "                if row[j] == 1:\n",
    "                    solution[i][j] = k\n",
    "\n",
    "    return solution"
   ]
  },
  {
   "cell_type": "code",
   "execution_count": 6,
   "id": "f902f946-65f8-4704-8e90-3e54b9a78d0f",
   "metadata": {},
   "outputs": [
    {
     "name": "stdout",
     "output_type": "stream",
     "text": [
      "Status:  optimal\n",
      "[9, 2, 6, 8, 1, 7, 4, 5, 3]\n",
      "[8, 5, 1, 3, 9, 4, 2, 6, 7]\n",
      "[4, 7, 3, 2, 6, 5, 9, 1, 8]\n",
      "[3, 4, 2, 9, 5, 1, 8, 7, 6]\n",
      "[5, 6, 8, 4, 7, 2, 1, 3, 9]\n",
      "[1, 9, 7, 6, 3, 8, 5, 4, 2]\n",
      "[6, 8, 5, 1, 2, 3, 7, 9, 4]\n",
      "[7, 3, 4, 5, 8, 9, 6, 2, 1]\n",
      "[2, 1, 9, 7, 4, 6, 3, 8, 5]\n",
      "Status:  optimal\n",
      "[8, 1, 2, 7, 5, 3, 6, 4, 9]\n",
      "[9, 4, 3, 6, 8, 2, 1, 7, 5]\n",
      "[6, 7, 5, 4, 9, 1, 2, 8, 3]\n",
      "[1, 5, 4, 2, 3, 7, 8, 9, 6]\n",
      "[3, 6, 9, 8, 4, 5, 7, 2, 1]\n",
      "[2, 8, 7, 1, 6, 9, 5, 3, 4]\n",
      "[5, 2, 1, 9, 7, 4, 3, 6, 8]\n",
      "[4, 3, 8, 5, 2, 6, 9, 1, 7]\n",
      "[7, 9, 6, 3, 1, 8, 4, 5, 2]\n"
     ]
    }
   ],
   "source": [
    "if __name__ == '__main__':\n",
    "    sudoku = [[0, 0, 0, 0, 1, 0, 0, 0, 0],\n",
    " [0, 5, 0, 0, 9, 4, 0, 6, 0],\n",
    " [4, 0, 0, 2, 0, 0, 0, 0, 0],\n",
    " [3, 0, 2, 0, 0, 0, 8, 0, 0],\n",
    " [0, 6, 0, 0, 0, 0, 0, 3, 0],\n",
    " [0, 9, 0, 0, 0, 8, 5, 4, 0],\n",
    " [0, 0, 0, 0, 2, 0, 0, 9, 0],\n",
    " [7, 0, 0, 0, 0, 0, 0, 2, 1],\n",
    " [0, 0, 0, 7, 0, 6, 0, 0, 0]]\n",
    "    print('\\n'.join(map(str, Solve_Sudoku_LP(sudoku))))\n",
    "    \n",
    "    sudoku = [[8, 0, 0, 0, 0, 0, 0, 0, 0],\n",
    " [0, 0, 3, 6, 0, 0, 0, 0, 0],\n",
    " [0, 7, 0, 0, 9, 0, 2, 0, 0],\n",
    " [0, 5, 0, 0, 0, 7, 0, 0, 0],\n",
    " [0, 0, 0, 0, 4, 5, 7, 0, 0],\n",
    " [0, 0, 0, 1, 0, 0, 0, 3, 0],\n",
    " [0, 0, 1, 0, 0, 0, 0, 6, 8],\n",
    " [0, 0, 8, 5, 0, 0, 0, 1, 0],\n",
    " [0, 9, 0, 0, 0, 0, 4, 0, 0]]\n",
    "    print('\\n'.join(map(str, Solve_Sudoku_LP(sudoku))))"
   ]
  },
  {
   "cell_type": "code",
   "execution_count": null,
   "id": "f7d1fdc4-0d59-4621-b649-d31ec794c04c",
   "metadata": {},
   "outputs": [],
   "source": []
  }
 ],
 "metadata": {
  "kernelspec": {
   "display_name": "Python 3 (ipykernel)",
   "language": "python",
   "name": "python3"
  },
  "language_info": {
   "codemirror_mode": {
    "name": "ipython",
    "version": 3
   },
   "file_extension": ".py",
   "mimetype": "text/x-python",
   "name": "python",
   "nbconvert_exporter": "python",
   "pygments_lexer": "ipython3",
   "version": "3.10.4"
  }
 },
 "nbformat": 4,
 "nbformat_minor": 5
}
